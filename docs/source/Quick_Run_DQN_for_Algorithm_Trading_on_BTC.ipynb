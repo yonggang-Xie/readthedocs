{
  "cells": [
    {
      "cell_type": "code",
      "execution_count": 53,
      "metadata": {
        "colab": {
          "base_uri": "https://localhost:8080/"
        },
        "id": "4TKpEroeFdT4",
        "outputId": "779790ce-0a9a-4771-f18a-32593d33635d"
      },
      "outputs": [
        {
          "output_type": "stream",
          "name": "stdout",
          "text": [
            "Cloning into 'TradeMasterReBuild'...\n",
            "remote: Enumerating objects: 1327, done.\u001b[K\n",
            "remote: Counting objects: 100% (422/422), done.\u001b[K\n",
            "remote: Compressing objects: 100% (266/266), done.\u001b[K\n",
            "remote: Total 1327 (delta 256), reused 280 (delta 144), pack-reused 905\u001b[K\n",
            "Receiving objects: 100% (1327/1327), 97.37 MiB | 23.30 MiB/s, done.\n",
            "Resolving deltas: 100% (664/664), done.\n",
            "Updating files: 100% (401/401), done.\n"
          ]
        }
      ],
      "source": [
        "# @title Download TradeMaster Package\n",
        "!git clone https://github.com/DVampire/TradeMasterReBuild.git"
      ]
    },
    {
      "cell_type": "markdown",
      "source": [
        "This tutorial is to demonstrate an example of using DeepScalper to do Algorithms Trading on the Bitcoin."
      ],
      "metadata": {
        "id": "AgCpN89OI386"
      }
    },
    {
      "cell_type": "markdown",
      "source": [
        "Download TradeMaster Package"
      ],
      "metadata": {
        "id": "FEFzV_O8JAou"
      }
    },
    {
      "cell_type": "code",
      "source": [
        "!git clone https://github.com/DVampire/TradeMasterReBuild.git"
      ],
      "metadata": {
        "id": "DM_PYvAPFBVi"
      },
      "execution_count": null,
      "outputs": []
    },
    {
      "cell_type": "code",
      "source": [
        "%cd '/content/TradeMasterReBuild'"
      ],
      "metadata": {
        "colab": {
          "base_uri": "https://localhost:8080/"
        },
        "id": "8jmYkQkYJeq-",
        "outputId": "a0c956d2-c1c8-4384-c3e1-f35db49d969a"
      },
      "execution_count": 3,
      "outputs": [
        {
          "output_type": "stream",
          "name": "stdout",
          "text": [
            "/content/TradeMasterReBuild\n"
          ]
        }
      ]
    },
    {
      "cell_type": "markdown",
      "source": [
        "Set up Experinment Environment"
      ],
      "metadata": {
        "id": "P_JEbtIIJIkL"
      }
    },
    {
      "cell_type": "code",
      "source": [
        "!pip install mmcv"
      ],
      "metadata": {
        "colab": {
          "base_uri": "https://localhost:8080/"
        },
        "id": "Z0zxaGaxEGlk",
        "outputId": "993acae4-82aa-48a3-987d-6515aba821fa"
      },
      "execution_count": 4,
      "outputs": [
        {
          "output_type": "stream",
          "name": "stdout",
          "text": [
            "Looking in indexes: https://pypi.org/simple, https://us-python.pkg.dev/colab-wheels/public/simple/\n",
            "Collecting mmcv\n",
            "  Downloading mmcv-1.7.1.tar.gz (605 kB)\n",
            "\u001b[2K     \u001b[90m━━━━━━━━━━━━━━━━━━━━━━━━━━━━━━━━━━━━━━━\u001b[0m \u001b[32m605.4/605.4 KB\u001b[0m \u001b[31m9.7 MB/s\u001b[0m eta \u001b[36m0:00:00\u001b[0m\n",
            "\u001b[?25h  Preparing metadata (setup.py) ... \u001b[?25l\u001b[?25hdone\n",
            "Collecting addict\n",
            "  Downloading addict-2.4.0-py3-none-any.whl (3.8 kB)\n",
            "Requirement already satisfied: numpy in /usr/local/lib/python3.8/dist-packages (from mmcv) (1.21.6)\n",
            "Requirement already satisfied: packaging in /usr/local/lib/python3.8/dist-packages (from mmcv) (23.0)\n",
            "Requirement already satisfied: Pillow in /usr/local/lib/python3.8/dist-packages (from mmcv) (7.1.2)\n",
            "Requirement already satisfied: pyyaml in /usr/local/lib/python3.8/dist-packages (from mmcv) (6.0)\n",
            "Collecting yapf\n",
            "  Downloading yapf-0.32.0-py2.py3-none-any.whl (190 kB)\n",
            "\u001b[2K     \u001b[90m━━━━━━━━━━━━━━━━━━━━━━━━━━━━━━━━━━━━━━\u001b[0m \u001b[32m190.2/190.2 KB\u001b[0m \u001b[31m22.4 MB/s\u001b[0m eta \u001b[36m0:00:00\u001b[0m\n",
            "\u001b[?25hBuilding wheels for collected packages: mmcv\n",
            "  Building wheel for mmcv (setup.py) ... \u001b[?25l\u001b[?25hdone\n",
            "  Created wheel for mmcv: filename=mmcv-1.7.1-py2.py3-none-any.whl size=930735 sha256=27f5ac99ded18bcae092e833034046296d5ce0c2a1a81103a5566f31bea2d522\n",
            "  Stored in directory: /root/.cache/pip/wheels/74/0c/f4/cafa17bca99a907f0ea624325aec45e905dd44884a47eae0bf\n",
            "Successfully built mmcv\n",
            "Installing collected packages: yapf, addict, mmcv\n",
            "Successfully installed addict-2.4.0 mmcv-1.7.1 yapf-0.32.0\n"
          ]
        }
      ]
    },
    {
      "cell_type": "code",
      "source": [
        "!pip install iopath"
      ],
      "metadata": {
        "colab": {
          "base_uri": "https://localhost:8080/"
        },
        "id": "P5MgLaZuEOJv",
        "outputId": "4d1955af-c98b-4eed-b406-27931fffc5ed"
      },
      "execution_count": 5,
      "outputs": [
        {
          "output_type": "stream",
          "name": "stdout",
          "text": [
            "Looking in indexes: https://pypi.org/simple, https://us-python.pkg.dev/colab-wheels/public/simple/\n",
            "Collecting iopath\n",
            "  Downloading iopath-0.1.10.tar.gz (42 kB)\n",
            "\u001b[2K     \u001b[90m━━━━━━━━━━━━━━━━━━━━━━━━━━━━━━━━━━━━━━━━\u001b[0m \u001b[32m42.2/42.2 KB\u001b[0m \u001b[31m1.7 MB/s\u001b[0m eta \u001b[36m0:00:00\u001b[0m\n",
            "\u001b[?25h  Preparing metadata (setup.py) ... \u001b[?25l\u001b[?25hdone\n",
            "Requirement already satisfied: tqdm in /usr/local/lib/python3.8/dist-packages (from iopath) (4.64.1)\n",
            "Requirement already satisfied: typing_extensions in /usr/local/lib/python3.8/dist-packages (from iopath) (4.4.0)\n",
            "Collecting portalocker\n",
            "  Downloading portalocker-2.7.0-py2.py3-none-any.whl (15 kB)\n",
            "Building wheels for collected packages: iopath\n",
            "  Building wheel for iopath (setup.py) ... \u001b[?25l\u001b[?25hdone\n",
            "  Created wheel for iopath: filename=iopath-0.1.10-py3-none-any.whl size=31547 sha256=137854da8de17dee39928aa565122c0d6ff6c4a5ab0619059bc4306b9a3e1edd\n",
            "  Stored in directory: /root/.cache/pip/wheels/89/3e/24/0f349c0b2eeb6965903035f3b00dbb5c9bea437b4a2f18d82c\n",
            "Successfully built iopath\n",
            "Installing collected packages: portalocker, iopath\n",
            "Successfully installed iopath-0.1.10 portalocker-2.7.0\n"
          ]
        }
      ]
    },
    {
      "cell_type": "code",
      "source": [
        "!pip install ray"
      ],
      "metadata": {
        "colab": {
          "base_uri": "https://localhost:8080/"
        },
        "id": "RwdtJMjkETPD",
        "outputId": "d2a3857f-3874-4278-cece-2c29bec73c93"
      },
      "execution_count": 6,
      "outputs": [
        {
          "output_type": "stream",
          "name": "stdout",
          "text": [
            "Looking in indexes: https://pypi.org/simple, https://us-python.pkg.dev/colab-wheels/public/simple/\n",
            "Collecting ray\n",
            "  Downloading ray-2.2.0-cp38-cp38-manylinux2014_x86_64.whl (57.4 MB)\n",
            "\u001b[2K     \u001b[90m━━━━━━━━━━━━━━━━━━━━━━━━━━━━━━━━━━━━━━━━\u001b[0m \u001b[32m57.4/57.4 MB\u001b[0m \u001b[31m27.4 MB/s\u001b[0m eta \u001b[36m0:00:00\u001b[0m\n",
            "\u001b[?25hRequirement already satisfied: protobuf!=3.19.5,>=3.15.3 in /usr/local/lib/python3.8/dist-packages (from ray) (3.19.6)\n",
            "Requirement already satisfied: requests in /usr/local/lib/python3.8/dist-packages (from ray) (2.25.1)\n",
            "Requirement already satisfied: filelock in /usr/local/lib/python3.8/dist-packages (from ray) (3.9.0)\n",
            "Requirement already satisfied: pyyaml in /usr/local/lib/python3.8/dist-packages (from ray) (6.0)\n",
            "Requirement already satisfied: aiosignal in /usr/local/lib/python3.8/dist-packages (from ray) (1.3.1)\n",
            "Requirement already satisfied: frozenlist in /usr/local/lib/python3.8/dist-packages (from ray) (1.3.3)\n",
            "Requirement already satisfied: grpcio>=1.32.0 in /usr/local/lib/python3.8/dist-packages (from ray) (1.51.1)\n",
            "Requirement already satisfied: numpy>=1.16 in /usr/local/lib/python3.8/dist-packages (from ray) (1.21.6)\n",
            "Requirement already satisfied: msgpack<2.0.0,>=1.0.0 in /usr/local/lib/python3.8/dist-packages (from ray) (1.0.4)\n",
            "Collecting virtualenv>=20.0.24\n",
            "  Downloading virtualenv-20.17.1-py3-none-any.whl (8.8 MB)\n",
            "\u001b[2K     \u001b[90m━━━━━━━━━━━━━━━━━━━━━━━━━━━━━━━━━━━━━━━━\u001b[0m \u001b[32m8.8/8.8 MB\u001b[0m \u001b[31m94.6 MB/s\u001b[0m eta \u001b[36m0:00:00\u001b[0m\n",
            "\u001b[?25hRequirement already satisfied: jsonschema in /usr/local/lib/python3.8/dist-packages (from ray) (4.3.3)\n",
            "Requirement already satisfied: click>=7.0 in /usr/local/lib/python3.8/dist-packages (from ray) (7.1.2)\n",
            "Requirement already satisfied: attrs in /usr/local/lib/python3.8/dist-packages (from ray) (22.2.0)\n",
            "Requirement already satisfied: platformdirs<3,>=2.4 in /usr/local/lib/python3.8/dist-packages (from virtualenv>=20.0.24->ray) (2.6.2)\n",
            "Collecting distlib<1,>=0.3.6\n",
            "  Downloading distlib-0.3.6-py2.py3-none-any.whl (468 kB)\n",
            "\u001b[2K     \u001b[90m━━━━━━━━━━━━━━━━━━━━━━━━━━━━━━━━━━━━━━\u001b[0m \u001b[32m468.5/468.5 KB\u001b[0m \u001b[31m41.7 MB/s\u001b[0m eta \u001b[36m0:00:00\u001b[0m\n",
            "\u001b[?25hRequirement already satisfied: importlib-resources>=1.4.0 in /usr/local/lib/python3.8/dist-packages (from jsonschema->ray) (5.10.2)\n",
            "Requirement already satisfied: pyrsistent!=0.17.0,!=0.17.1,!=0.17.2,>=0.14.0 in /usr/local/lib/python3.8/dist-packages (from jsonschema->ray) (0.19.3)\n",
            "Requirement already satisfied: urllib3<1.27,>=1.21.1 in /usr/local/lib/python3.8/dist-packages (from requests->ray) (1.24.3)\n",
            "Requirement already satisfied: chardet<5,>=3.0.2 in /usr/local/lib/python3.8/dist-packages (from requests->ray) (4.0.0)\n",
            "Requirement already satisfied: certifi>=2017.4.17 in /usr/local/lib/python3.8/dist-packages (from requests->ray) (2022.12.7)\n",
            "Requirement already satisfied: idna<3,>=2.5 in /usr/local/lib/python3.8/dist-packages (from requests->ray) (2.10)\n",
            "Requirement already satisfied: zipp>=3.1.0 in /usr/local/lib/python3.8/dist-packages (from importlib-resources>=1.4.0->jsonschema->ray) (3.12.0)\n",
            "Installing collected packages: distlib, virtualenv, ray\n",
            "Successfully installed distlib-0.3.6 ray-2.2.0 virtualenv-20.17.1\n"
          ]
        }
      ]
    },
    {
      "cell_type": "code",
      "source": [
        "import os\n",
        "import sys\n",
        "from pathlib import Path\n",
        "import warnings\n",
        "warnings.filterwarnings(\"ignore\")\n",
        "\n",
        "ROOT = \"/content/TradeMasterReBuild\"\n",
        "sys.path.append(ROOT)\n",
        "\n",
        "import torch\n",
        "import argparse\n",
        "import os.path as osp\n",
        "from mmcv import Config\n",
        "from trademaster.utils import replace_cfg_vals\n",
        "from trademaster.nets.builder import build_net\n",
        "from trademaster.environments.builder import build_environment\n",
        "from trademaster.datasets.builder import build_dataset\n",
        "from trademaster.agents.builder import build_agent\n",
        "from trademaster.optimizers.builder import build_optimizer\n",
        "from trademaster.losses.builder import build_loss\n",
        "from trademaster.trainers.builder import build_trainer\n",
        "\n",
        "import sys\n",
        "sys.argv=['']\n",
        "del sys"
      ],
      "metadata": {
        "colab": {
          "base_uri": "https://localhost:8080/"
        },
        "id": "mGHrFYQmldTY",
        "outputId": "e063aaa7-f4d4-416d-e109-ce7906c7e1c6"
      },
      "execution_count": 7,
      "outputs": [
        {
          "output_type": "stream",
          "name": "stderr",
          "text": [
            "No CUDA runtime is found, using CUDA_HOME='/usr/local/cuda'\n"
          ]
        }
      ]
    },
    {
      "cell_type": "markdown",
      "source": [
        "Set up parameters"
      ],
      "metadata": {
        "id": "VdbdVteKSNe0"
      }
    },
    {
      "cell_type": "code",
      "source": [
        "parser = argparse.ArgumentParser(description='Download Alpaca Datasets')\n",
        "parser.add_argument(\"--config\", default=osp.join(ROOT, \"configs\", \"algorithmic_trading\", \"algorithmic_trading_BTC_dqn_dqn_adam_mse.py\"),\n",
        "                        help=\"download datasets config file path\")\n",
        "parser.add_argument(\"--task_name\", type=str, default=\"train\")\n",
        "parser.add_argument(\"--test_style\", type=str, default='-1')\n",
        "\n",
        "args = parser.parse_args(args=['--task_name', 'train'])"
      ],
      "metadata": {
        "id": "z3E7CcF3KBy5"
      },
      "execution_count": 13,
      "outputs": []
    },
    {
      "cell_type": "markdown",
      "source": [
        "Set up device(CPU or GPU)"
      ],
      "metadata": {
        "id": "-2fGyg-dSWmm"
      }
    },
    {
      "cell_type": "code",
      "source": [
        "device = torch.device('cuda' if torch.cuda.is_available() else 'cpu')"
      ],
      "metadata": {
        "id": "BPNOaxSlSa7o"
      },
      "execution_count": 14,
      "outputs": []
    },
    {
      "cell_type": "markdown",
      "source": [
        "Load configuration file"
      ],
      "metadata": {
        "id": "JUNv04tmScrK"
      }
    },
    {
      "cell_type": "code",
      "source": [
        "cfg = Config.fromfile(args.config)\n",
        "task_name = args.task_name\n",
        "\n",
        "cfg = replace_cfg_vals(cfg)\n",
        "\n",
        "cfg.data.update({'test_style': args.test_style})\n",
        "print(cfg)"
      ],
      "metadata": {
        "colab": {
          "base_uri": "https://localhost:8080/"
        },
        "id": "C0P0j4fyRK_V",
        "outputId": "8c76ccdf-5f62-46ab-ba05-1850b7fedd54"
      },
      "execution_count": 15,
      "outputs": [
        {
          "output_type": "stream",
          "name": "stdout",
          "text": [
            "Config (path: /content/TradeMasterReBuild/configs/algorithmic_trading/algorithmic_trading_BTC_dqn_dqn_adam_mse.py): {'data': {'type': 'AlgorithmicTradingDataset', 'data_path': 'data/algorithmic_trading/BTC', 'train_path': 'data/algorithmic_trading/BTC/train.csv', 'valid_path': 'data/algorithmic_trading/BTC/valid.csv', 'test_path': 'data/algorithmic_trading/BTC/test.csv', 'test_style_path': 'data/algorithmic_trading/BTC/test_labeled_3_24_-0.15_0.15.csv', 'tech_indicator_list': ['high', 'low', 'open', 'close', 'adjcp', 'zopen', 'zhigh', 'zlow', 'zadjcp', 'zclose', 'zd_5', 'zd_10', 'zd_15', 'zd_20', 'zd_25', 'zd_30'], 'backward_num_day': 5, 'forward_num_day': 5, 'test_style': '-1'}, 'environment': {'type': 'AlgorithmicTradingEnvironment'}, 'agent': {'type': 'AlgorithmicTradingDQN', 'max_step': 12345, 'reward_scale': 1, 'repeat_times': 1, 'gamma': 0.9, 'batch_size': 64, 'clip_grad_norm': 3.0, 'soft_update_tau': 0, 'state_value_tau': 0.005}, 'trainer': {'type': 'AlgorithmicTradingTrainer', 'epochs': 20, 'work_dir': 'work_dir/algorithmic_trading_BTC_dqn_dqn_adam_mse', 'seeds_list': (12345,), 'batch_size': 64, 'horizon_len': 512, 'buffer_size': 1000000.0, 'num_threads': 8, 'if_remove': True, 'if_discrete': True, 'if_off_policy': True, 'if_keep_save': True, 'if_over_write': False, 'if_save_buffer': False, 'eval_times': 3}, 'loss': {'type': 'MSELoss'}, 'optimizer': {'type': 'Adam', 'lr': 0.001}, 'act': {'type': 'QNet', 'state_dim': 82, 'action_dim': 3, 'dims': (64, 32), 'explore_rate': 0.25}, 'cri': None, 'task_name': 'algorithmic_trading', 'dataset_name': 'BTC', 'optimizer_name': 'adam', 'loss_name': 'mse', 'net_name': 'dqn', 'agent_name': 'dqn', 'work_dir': 'work_dir/algorithmic_trading_BTC_dqn_dqn_adam_mse', 'batch_size': 64}\n"
          ]
        }
      ]
    },
    {
      "cell_type": "markdown",
      "source": [
        "Build dataset"
      ],
      "metadata": {
        "id": "eX17NwGpSm_C"
      }
    },
    {
      "cell_type": "code",
      "source": [
        "dataset = build_dataset(cfg)"
      ],
      "metadata": {
        "id": "dZbPjzxBSnoS"
      },
      "execution_count": 16,
      "outputs": []
    },
    {
      "cell_type": "markdown",
      "source": [
        "Build enviroment"
      ],
      "metadata": {
        "id": "XTi1QJDrTBvr"
      }
    },
    {
      "cell_type": "code",
      "source": [
        "train_environment = build_environment(cfg, default_args=dict(dataset=dataset, task=\"train\"))\n",
        "valid_environment = build_environment(cfg, default_args=dict(dataset=dataset, task=\"valid\"))\n",
        "test_environment = build_environment(cfg, default_args=dict(dataset=dataset, task=\"test\"))\n",
        "\n",
        "if task_name.startswith(\"style_test\"):\n",
        "  test_style_environments = []\n",
        "  for i, path in enumerate(dataset.test_style_paths):\n",
        "    test_style_environments.append(build_environment(cfg, default_args=dict(dataset=dataset, task=\"test_style\",style_test_path=path,task_index=i)))"
      ],
      "metadata": {
        "id": "h3DJFXSWTAeQ"
      },
      "execution_count": 17,
      "outputs": []
    },
    {
      "cell_type": "markdown",
      "source": [
        "Build Agent"
      ],
      "metadata": {
        "id": "vhg0DL9ATTKv"
      }
    },
    {
      "cell_type": "code",
      "source": [
        "    action_dim = train_environment.action_space.n\n",
        "    state_dim = train_environment.observation_space.shape[0]\n",
        "\n",
        "    cfg.act.update(dict(action_dim=action_dim, state_dim=state_dim))\n",
        "    act = build_net(cfg.act)\n",
        "    if cfg.cri:\n",
        "        cfg.cri.update(dict(action_dim=action_dim, state_dim=state_dim))\n",
        "        cri = build_net(cfg.cri)\n",
        "    else:\n",
        "        cri = None\n",
        "\n",
        "    act_optimizer = build_optimizer(cfg, default_args=dict(params=act.parameters()))\n",
        "    cri_optimizer = None\n",
        "    criterion = build_loss(cfg)\n",
        "\n",
        "    agent = build_agent(cfg, default_args=dict(action_dim = action_dim,\n",
        "                           state_dim = state_dim,\n",
        "                           act = act,\n",
        "                           cri = cri,\n",
        "                           act_optimizer=act_optimizer,\n",
        "                           cri_optimizer=cri_optimizer,\n",
        "                           criterion=criterion,\n",
        "                           device=device))"
      ],
      "metadata": {
        "id": "AhPvGJ5wTSyO"
      },
      "execution_count": 20,
      "outputs": []
    },
    {
      "cell_type": "markdown",
      "source": [
        "Build Trainer"
      ],
      "metadata": {
        "id": "8mNiM4jUTdhZ"
      }
    },
    {
      "cell_type": "code",
      "source": [
        "if task_name.startswith(\"style_test\"):\n",
        "    trainers = []\n",
        "    for env in test_style_environments:\n",
        "      trainers.append(build_trainer(cfg, default_args=dict(train_environment=train_environment,\n",
        "                               valid_environment=valid_environment,\n",
        "                               test_environment=env,\n",
        "                               agent=agent,\n",
        "                               device=device)))\n",
        "\n",
        "else:\n",
        "    trainer = build_trainer(cfg, default_args=dict(train_environment=train_environment,\n",
        "                             valid_environment=valid_environment,\n",
        "                             test_environment=test_environment,\n",
        "                             agent=agent,\n",
        "                             device=device))\n",
        "\n",
        "cfg.dump(osp.join(trainer.work_dir, osp.basename(args.config)))\n"
      ],
      "metadata": {
        "colab": {
          "base_uri": "https://localhost:8080/"
        },
        "id": "773s3ybNTdQ6",
        "outputId": "f6b3e9af-7861-42df-88c5-255c8408667c"
      },
      "execution_count": 21,
      "outputs": [
        {
          "output_type": "stream",
          "name": "stdout",
          "text": [
            "| Arguments Remove work_dir: /content/TradeMasterReBuild/work_dir/algorithmic_trading_BTC_dqn_dqn_adam_mse\n"
          ]
        }
      ]
    },
    {
      "cell_type": "markdown",
      "source": [
        "Train and Valid"
      ],
      "metadata": {
        "id": "_qajCw11UVrW"
      }
    },
    {
      "cell_type": "code",
      "source": [
        "if task_name.startswith(\"train\"):\n",
        "    trainer.train_and_valid()\n",
        "    print(\"train end\")\n",
        "elif task_name.startswith(\"test\"):\n",
        "    trainer.test()\n",
        "    print(\"test end\")\n",
        "elif task_name.startswith(\"style_test\"):\n",
        "    daily_return_list = []\n",
        "    for trainer in trainers:\n",
        "        daily_return_list.extend(trainer.test())\n",
        "    print('win rate is: ', sum(r > 0 for r in daily_return_list) / len(daily_return_list))\n",
        "    print(\"style test end\")"
      ],
      "metadata": {
        "colab": {
          "base_uri": "https://localhost:8080/"
        },
        "id": "tv4OiKgGUV4F",
        "outputId": "e2d255c0-e21a-4904-dbb4-9984e9d3afe7"
      },
      "execution_count": 22,
      "outputs": [
        {
          "output_type": "stream",
          "name": "stdout",
          "text": [
            "Train Episode: [1/20]\n",
            "+---------------+-------------+-------------+--------------+----------------+---------------+\n",
            "| Profit Margin | Sharp Ratio |  Volatility | Max Drawdown |  Calmar Ratio  | Sortino Ratio |\n",
            "+---------------+-------------+-------------+--------------+----------------+---------------+\n",
            "|  -330.788968% |  -0.000395  | 4673.598751 |   2.085304   | -102809.252114 |   -1.033315   |\n",
            "+---------------+-------------+-------------+--------------+----------------+---------------+\n",
            "Valid Episode: [1/20]\n",
            "+---------------+-------------+------------+--------------+--------------+---------------+\n",
            "| Profit Margin | Sharp Ratio | Volatility | Max Drawdown | Calmar Ratio | Sortino Ratio |\n",
            "+---------------+-------------+------------+--------------+--------------+---------------+\n",
            "|   -0.000000%  |   0.000000  |  0.000000  |   0.000000   |   0.000000   |      0nan     |\n",
            "+---------------+-------------+------------+--------------+--------------+---------------+\n",
            "Valid Episode Reward Sum: 0.000000\n",
            "save path /content/TradeMasterReBuild/work_dir/algorithmic_trading_BTC_dqn_dqn_adam_mse/checkpoints/checkpoint-00001.pth\n",
            "Train Episode: [2/20]\n",
            "+---------------+-------------+--------------+--------------+---------------+---------------+\n",
            "| Profit Margin | Sharp Ratio |  Volatility  | Max Drawdown |  Calmar Ratio | Sortino Ratio |\n",
            "+---------------+-------------+--------------+--------------+---------------+---------------+\n",
            "| -2643.895624% |  -0.000293  | 72986.576254 |  57.686053   | -43109.730365 |   -0.763107   |\n",
            "+---------------+-------------+--------------+--------------+---------------+---------------+\n",
            "Valid Episode: [2/20]\n",
            "+---------------+-------------+-------------+--------------+---------------+---------------+\n",
            "| Profit Margin | Sharp Ratio |  Volatility | Max Drawdown |  Calmar Ratio | Sortino Ratio |\n",
            "+---------------+-------------+-------------+--------------+---------------+---------------+\n",
            "|  -191.581561% |  -0.002077  | 3321.810124 |   2.136817   | -15861.838407 |   -0.922140   |\n",
            "+---------------+-------------+-------------+--------------+---------------+---------------+\n",
            "Valid Episode Reward Sum: -53139.157006\n",
            "save path /content/TradeMasterReBuild/work_dir/algorithmic_trading_BTC_dqn_dqn_adam_mse/checkpoints/checkpoint-00002.pth\n",
            "Train Episode: [3/20]\n",
            "+---------------+-------------+--------------+--------------+---------------+---------------+\n",
            "| Profit Margin | Sharp Ratio |  Volatility  | Max Drawdown |  Calmar Ratio | Sortino Ratio |\n",
            "+---------------+-------------+--------------+--------------+---------------+---------------+\n",
            "| -1754.892756% |  -0.000296  | 46238.901088 |  34.039319   | -46745.047669 |   -0.759943   |\n",
            "+---------------+-------------+--------------+--------------+---------------+---------------+\n",
            "Valid Episode: [3/20]\n",
            "+---------------+-------------+-------------+--------------+---------------+---------------+\n",
            "| Profit Margin | Sharp Ratio |  Volatility | Max Drawdown |  Calmar Ratio | Sortino Ratio |\n",
            "+---------------+-------------+-------------+--------------+---------------+---------------+\n",
            "|  -210.697479% |  -0.001972  | 3641.311339 |   2.348067   | -15024.012882 |   -0.878704   |\n",
            "+---------------+-------------+-------------+--------------+---------------+---------------+\n",
            "Valid Episode Reward Sum: -55842.451901\n",
            "save path /content/TradeMasterReBuild/work_dir/algorithmic_trading_BTC_dqn_dqn_adam_mse/checkpoints/checkpoint-00003.pth\n",
            "Train Episode: [4/20]\n",
            "+---------------+-------------+--------------+--------------+---------------+---------------+\n",
            "| Profit Margin | Sharp Ratio |  Volatility  | Max Drawdown |  Calmar Ratio | Sortino Ratio |\n",
            "+---------------+-------------+--------------+--------------+---------------+---------------+\n",
            "|  659.108038%  |   0.000343  | 16428.534540 |   0.975205   | 670823.457488 |    0.891672   |\n",
            "+---------------+-------------+--------------+--------------+---------------+---------------+\n",
            "Valid Episode: [4/20]\n",
            "+---------------+-------------+-------------+--------------+---------------+---------------+\n",
            "| Profit Margin | Sharp Ratio |  Volatility | Max Drawdown |  Calmar Ratio | Sortino Ratio |\n",
            "+---------------+-------------+-------------+--------------+---------------+---------------+\n",
            "|  -230.134541% |  -0.001800  | 4108.651796 |   2.562529   | -14181.348608 |   -0.819081   |\n",
            "+---------------+-------------+-------------+--------------+---------------+---------------+\n",
            "Valid Episode Reward Sum: -56390.914075\n",
            "save path /content/TradeMasterReBuild/work_dir/algorithmic_trading_BTC_dqn_dqn_adam_mse/checkpoints/checkpoint-00004.pth\n",
            "Train Episode: [5/20]\n",
            "+---------------+-------------+--------------+--------------+----------------+---------------+\n",
            "| Profit Margin | Sharp Ratio |  Volatility  | Max Drawdown |  Calmar Ratio  | Sortino Ratio |\n",
            "+---------------+-------------+--------------+--------------+----------------+---------------+\n",
            "| -3247.382470% |  -0.000281  | 88981.222640 |  28.560001   | -101689.395288 |   -0.718482   |\n",
            "+---------------+-------------+--------------+--------------+----------------+---------------+\n",
            "Valid Episode: [5/20]\n",
            "+---------------+-------------+-------------+--------------+---------------+---------------+\n",
            "| Profit Margin | Sharp Ratio |  Volatility | Max Drawdown |  Calmar Ratio | Sortino Ratio |\n",
            "+---------------+-------------+-------------+--------------+---------------+---------------+\n",
            "|  -228.374500% |  -0.001960  | 3955.572209 |   2.544929   | -14970.321134 |   -0.874570   |\n",
            "+---------------+-------------+-------------+--------------+---------------+---------------+\n",
            "Valid Episode Reward Sum: -60247.790332\n",
            "save path /content/TradeMasterReBuild/work_dir/algorithmic_trading_BTC_dqn_dqn_adam_mse/checkpoints/checkpoint-00005.pth\n",
            "Train Episode: [6/20]\n",
            "+---------------+-------------+--------------+--------------+---------------+---------------+\n",
            "| Profit Margin | Sharp Ratio |  Volatility  | Max Drawdown |  Calmar Ratio | Sortino Ratio |\n",
            "+---------------+-------------+--------------+--------------+---------------+---------------+\n",
            "| -2316.022630% |  -0.000292  | 62569.654955 |  49.017486   | -43395.821764 |   -0.753006   |\n",
            "+---------------+-------------+--------------+--------------+---------------+---------------+\n",
            "Valid Episode: [6/20]\n",
            "+---------------+-------------+-------------+--------------+--------------+---------------+\n",
            "| Profit Margin | Sharp Ratio |  Volatility | Max Drawdown | Calmar Ratio | Sortino Ratio |\n",
            "+---------------+-------------+-------------+--------------+--------------+---------------+\n",
            "|   32.187269%  |   0.002335  | 2840.237914 |   0.467654   | 69671.804865 |    0.745696   |\n",
            "+---------------+-------------+-------------+--------------+--------------+---------------+\n",
            "Valid Episode Reward Sum: 51398.835806\n",
            "save path /content/TradeMasterReBuild/work_dir/algorithmic_trading_BTC_dqn_dqn_adam_mse/checkpoints/checkpoint-00006.pth\n",
            "Train Episode: [7/20]\n",
            "+---------------+-------------+--------------+--------------+----------------+---------------+\n",
            "| Profit Margin | Sharp Ratio |  Volatility  | Max Drawdown |  Calmar Ratio  | Sortino Ratio |\n",
            "+---------------+-------------+--------------+--------------+----------------+---------------+\n",
            "|  920.379090%  |  -0.000266  | 33323.159428 |   3.582245   | -287988.547883 |   -0.684165   |\n",
            "+---------------+-------------+--------------+--------------+----------------+---------------+\n",
            "Valid Episode: [7/20]\n",
            "+---------------+-------------+-------------+--------------+---------------+---------------+\n",
            "| Profit Margin | Sharp Ratio |  Volatility | Max Drawdown |  Calmar Ratio | Sortino Ratio |\n",
            "+---------------+-------------+-------------+--------------+---------------+---------------+\n",
            "|  -96.250663%  |  -0.002660  | 2236.482883 |   1.345953   | -21713.168069 |   -1.127460   |\n",
            "+---------------+-------------+-------------+--------------+---------------+---------------+\n",
            "Valid Episode Reward Sum: -52927.881329\n",
            "save path /content/TradeMasterReBuild/work_dir/algorithmic_trading_BTC_dqn_dqn_adam_mse/checkpoints/checkpoint-00007.pth\n",
            "Train Episode: [8/20]\n",
            "+---------------+-------------+-------------+--------------+---------------+---------------+\n",
            "| Profit Margin | Sharp Ratio |  Volatility | Max Drawdown |  Calmar Ratio | Sortino Ratio |\n",
            "+---------------+-------------+-------------+--------------+---------------+---------------+\n",
            "|  322.416227%  |   0.000445  | 6280.495533 |   0.841550   | 386054.721769 |    1.135636   |\n",
            "+---------------+-------------+-------------+--------------+---------------+---------------+\n",
            "Valid Episode: [8/20]\n",
            "+---------------+-------------+-------------+--------------+--------------+---------------+\n",
            "| Profit Margin | Sharp Ratio |  Volatility | Max Drawdown | Calmar Ratio | Sortino Ratio |\n",
            "+---------------+-------------+-------------+--------------+--------------+---------------+\n",
            "|   38.003214%  |   0.001960  | 3955.572209 |   0.573471   | 66434.732526 |    0.611190   |\n",
            "+---------------+-------------+-------------+--------------+--------------+---------------+\n",
            "Valid Episode Reward Sum: 60247.790332\n",
            "save path /content/TradeMasterReBuild/work_dir/algorithmic_trading_BTC_dqn_dqn_adam_mse/checkpoints/checkpoint-00008.pth\n",
            "Train Episode: [9/20]\n",
            "+---------------+-------------+--------------+--------------+--------------+---------------+\n",
            "| Profit Margin | Sharp Ratio |  Volatility  | Max Drawdown | Calmar Ratio | Sortino Ratio |\n",
            "+---------------+-------------+--------------+--------------+--------------+---------------+\n",
            "|  -586.406927% |   0.000111  | 13768.877668 |   3.176037   | 55881.613831 |    0.284154   |\n",
            "+---------------+-------------+--------------+--------------+--------------+---------------+\n",
            "Valid Episode: [9/20]\n",
            "+---------------+-------------+-------------+--------------+---------------+---------------+\n",
            "| Profit Margin | Sharp Ratio |  Volatility | Max Drawdown |  Calmar Ratio | Sortino Ratio |\n",
            "+---------------+-------------+-------------+--------------+---------------+---------------+\n",
            "|  -225.180782% |  -0.002214  | 3803.779392 |   2.512992   | -16465.913515 |   -0.964511   |\n",
            "+---------------+-------------+-------------+--------------+---------------+---------------+\n",
            "Valid Episode Reward Sum: -66160.576896\n",
            "save path /content/TradeMasterReBuild/work_dir/algorithmic_trading_BTC_dqn_dqn_adam_mse/checkpoints/checkpoint-00009.pth\n",
            "Train Episode: [10/20]\n",
            "+---------------+-------------+--------------+--------------+---------------+---------------+\n",
            "| Profit Margin | Sharp Ratio |  Volatility  | Max Drawdown |  Calmar Ratio | Sortino Ratio |\n",
            "+---------------+-------------+--------------+--------------+---------------+---------------+\n",
            "| -1352.234458% |  -0.000338  | 33887.196831 |  23.677578   | -56319.046290 |   -0.893207   |\n",
            "+---------------+-------------+--------------+--------------+---------------+---------------+\n",
            "Valid Episode: [10/20]\n",
            "+---------------+-------------+-------------+--------------+--------------+---------------+\n",
            "| Profit Margin | Sharp Ratio |  Volatility | Max Drawdown | Calmar Ratio | Sortino Ratio |\n",
            "+---------------+-------------+-------------+--------------+--------------+---------------+\n",
            "|   35.361205%  |   0.001983  | 3639.445616 |   0.545408   | 64995.008280 |    0.619435   |\n",
            "+---------------+-------------+-------------+--------------+--------------+---------------+\n",
            "Valid Episode Reward Sum: 55880.732238\n",
            "save path /content/TradeMasterReBuild/work_dir/algorithmic_trading_BTC_dqn_dqn_adam_mse/checkpoints/checkpoint-00010.pth\n",
            "Train Episode: [11/20]\n",
            "+---------------+-------------+--------------+--------------+---------------+---------------+\n",
            "| Profit Margin | Sharp Ratio |  Volatility  | Max Drawdown |  Calmar Ratio | Sortino Ratio |\n",
            "+---------------+-------------+--------------+--------------+---------------+---------------+\n",
            "| -1978.112509% |  -0.000331  | 59173.670121 |  42.768928   | -53225.570833 |   -0.865634   |\n",
            "+---------------+-------------+--------------+--------------+---------------+---------------+\n",
            "Valid Episode: [11/20]\n",
            "+---------------+-------------+-------------+--------------+--------------+---------------+\n",
            "| Profit Margin | Sharp Ratio |  Volatility | Max Drawdown | Calmar Ratio | Sortino Ratio |\n",
            "+---------------+-------------+-------------+--------------+--------------+---------------+\n",
            "|   28.404390%  |   0.002547  | 2472.015030 |   0.423181   | 73104.417221 |    0.848125   |\n",
            "+---------------+-------------+-------------+--------------+--------------+---------------+\n",
            "Valid Episode Reward Sum: 58407.276714\n",
            "save path /content/TradeMasterReBuild/work_dir/algorithmic_trading_BTC_dqn_dqn_adam_mse/checkpoints/checkpoint-00011.pth\n",
            "Train Episode: [12/20]\n",
            "+---------------+-------------+--------------+--------------+---------------+---------------+\n",
            "| Profit Margin | Sharp Ratio |  Volatility  | Max Drawdown |  Calmar Ratio | Sortino Ratio |\n",
            "+---------------+-------------+--------------+--------------+---------------+---------------+\n",
            "| -1337.285585% |  -0.000430  | 33661.487122 |  19.207464   | -87633.738592 |   -1.139470   |\n",
            "+---------------+-------------+--------------+--------------+---------------+---------------+\n",
            "Valid Episode: [12/20]\n",
            "+---------------+-------------+-------------+--------------+--------------+---------------+\n",
            "| Profit Margin | Sharp Ratio |  Volatility | Max Drawdown | Calmar Ratio | Sortino Ratio |\n",
            "+---------------+-------------+-------------+--------------+--------------+---------------+\n",
            "|   23.496998%  |   0.002001  | 2647.463952 |   0.439955   | 59162.934736 |    0.606774   |\n",
            "+---------------+-------------+-------------+--------------+--------------+---------------+\n",
            "Valid Episode Reward Sum: 48311.886743\n",
            "save path /content/TradeMasterReBuild/work_dir/algorithmic_trading_BTC_dqn_dqn_adam_mse/checkpoints/checkpoint-00012.pth\n",
            "Train Episode: [13/20]\n",
            "+---------------+-------------+--------------+--------------+---------------+---------------+\n",
            "| Profit Margin | Sharp Ratio |  Volatility  | Max Drawdown |  Calmar Ratio | Sortino Ratio |\n",
            "+---------------+-------------+--------------+--------------+---------------+---------------+\n",
            "| -2342.473093% |  -0.000333  | 57547.250610 |  38.677524   | -57617.906472 |   -0.871975   |\n",
            "+---------------+-------------+--------------+--------------+---------------+---------------+\n",
            "Valid Episode: [13/20]\n",
            "+---------------+-------------+-------------+--------------+--------------+---------------+\n",
            "| Profit Margin | Sharp Ratio |  Volatility | Max Drawdown | Calmar Ratio | Sortino Ratio |\n",
            "+---------------+-------------+-------------+--------------+--------------+---------------+\n",
            "|   32.996550%  |   0.002322  | 3114.508229 |   0.505720   | 70253.478556 |    0.752189   |\n",
            "+---------------+-------------+-------------+--------------+--------------+---------------+\n",
            "Valid Episode Reward Sum: 58976.622882\n",
            "save path /content/TradeMasterReBuild/work_dir/algorithmic_trading_BTC_dqn_dqn_adam_mse/checkpoints/checkpoint-00013.pth\n",
            "Train Episode: [14/20]\n",
            "+---------------+-------------+-------------+--------------+----------------+---------------+\n",
            "| Profit Margin | Sharp Ratio |  Volatility | Max Drawdown |  Calmar Ratio  | Sortino Ratio |\n",
            "+---------------+-------------+-------------+--------------+----------------+---------------+\n",
            "|  523.778551%  |  -0.000590  | 9711.805917 |   1.591738   | -418692.751037 |   -1.539290   |\n",
            "+---------------+-------------+-------------+--------------+----------------+---------------+\n",
            "Valid Episode: [14/20]\n",
            "+---------------+-------------+-------------+--------------+---------------+---------------+\n",
            "| Profit Margin | Sharp Ratio |  Volatility | Max Drawdown |  Calmar Ratio | Sortino Ratio |\n",
            "+---------------+-------------+-------------+--------------+---------------+---------------+\n",
            "|  -55.466162%  |  -0.003644  | 1621.305329 |   1.440433   | -20152.420928 |   -1.387623   |\n",
            "+---------------+-------------+-------------+--------------+---------------+---------------+\n",
            "Valid Episode Reward Sum: -50437.490317\n",
            "save path /content/TradeMasterReBuild/work_dir/algorithmic_trading_BTC_dqn_dqn_adam_mse/checkpoints/checkpoint-00014.pth\n",
            "Train Episode: [15/20]\n",
            "+---------------+-------------+--------------+--------------+----------------+---------------+\n",
            "| Profit Margin | Sharp Ratio |  Volatility  | Max Drawdown |  Calmar Ratio  | Sortino Ratio |\n",
            "+---------------+-------------+--------------+--------------+----------------+---------------+\n",
            "|  2034.596705% |   0.000298  | 58952.004049 |   0.990412   | 2060497.246388 |    0.755127   |\n",
            "+---------------+-------------+--------------+--------------+----------------+---------------+\n",
            "Valid Episode: [15/20]\n",
            "+---------------+-------------+-------------+--------------+--------------+---------------+\n",
            "| Profit Margin | Sharp Ratio |  Volatility | Max Drawdown | Calmar Ratio | Sortino Ratio |\n",
            "+---------------+-------------+-------------+--------------+--------------+---------------+\n",
            "|   30.786573%  |   0.002247  | 3018.124363 |   0.483276   | 68943.237768 |    0.725796   |\n",
            "+---------------+-------------+-------------+--------------+--------------+---------------+\n",
            "Valid Episode Reward Sum: 59287.011166\n",
            "save path /content/TradeMasterReBuild/work_dir/algorithmic_trading_BTC_dqn_dqn_adam_mse/checkpoints/checkpoint-00015.pth\n",
            "Train Episode: [16/20]\n",
            "+---------------+-------------+--------------+--------------+---------------+---------------+\n",
            "| Profit Margin | Sharp Ratio |  Volatility  | Max Drawdown |  Calmar Ratio | Sortino Ratio |\n",
            "+---------------+-------------+--------------+--------------+---------------+---------------+\n",
            "| -1332.189079% |  -0.000339  | 35509.152682 |  19.477044   | -71785.131952 |   -0.873691   |\n",
            "+---------------+-------------+--------------+--------------+---------------+---------------+\n",
            "Valid Episode: [16/20]\n",
            "+---------------+-------------+-------------+--------------+--------------+---------------+\n",
            "| Profit Margin | Sharp Ratio |  Volatility | Max Drawdown | Calmar Ratio | Sortino Ratio |\n",
            "+---------------+-------------+-------------+--------------+--------------+---------------+\n",
            "|   40.037225%  |   0.002145  | 3807.221964 |   0.566451   | 70845.287805 |    0.681901   |\n",
            "+---------------+-------------+-------------+--------------+--------------+---------------+\n",
            "Valid Episode Reward Sum: 64220.710192\n",
            "save path /content/TradeMasterReBuild/work_dir/algorithmic_trading_BTC_dqn_dqn_adam_mse/checkpoints/checkpoint-00016.pth\n",
            "Train Episode: [17/20]\n",
            "+---------------+-------------+--------------+--------------+----------------+---------------+\n",
            "| Profit Margin | Sharp Ratio |  Volatility  | Max Drawdown |  Calmar Ratio  | Sortino Ratio |\n",
            "+---------------+-------------+--------------+--------------+----------------+---------------+\n",
            "|  2098.504831% |   0.000292  | 61841.820725 |   0.990324   | 2120616.025725 |    0.739587   |\n",
            "+---------------+-------------+--------------+--------------+----------------+---------------+\n",
            "Valid Episode: [17/20]\n",
            "+---------------+-------------+------------+--------------+---------------+---------------+\n",
            "| Profit Margin | Sharp Ratio | Volatility | Max Drawdown |  Calmar Ratio | Sortino Ratio |\n",
            "+---------------+-------------+------------+--------------+---------------+---------------+\n",
            "|   -5.733427%  |  -0.002417  | 451.484047 |   0.095623   | -56057.422587 |   -0.252029   |\n",
            "+---------------+-------------+------------+--------------+---------------+---------------+\n",
            "Valid Episode Reward Sum: -16687.587283\n",
            "save path /content/TradeMasterReBuild/work_dir/algorithmic_trading_BTC_dqn_dqn_adam_mse/checkpoints/checkpoint-00017.pth\n",
            "Train Episode: [18/20]\n",
            "+---------------+-------------+--------------+--------------+----------------+---------------+\n",
            "| Profit Margin | Sharp Ratio |  Volatility  | Max Drawdown |  Calmar Ratio  | Sortino Ratio |\n",
            "+---------------+-------------+--------------+--------------+----------------+---------------+\n",
            "|  2061.866031% |   0.000297  | 59917.500153 |   0.987763   | 2091516.711745 |    0.751638   |\n",
            "+---------------+-------------+--------------+--------------+----------------+---------------+\n",
            "Valid Episode: [18/20]\n",
            "+---------------+-------------+------------+--------------+--------------+---------------+\n",
            "| Profit Margin | Sharp Ratio | Volatility | Max Drawdown | Calmar Ratio | Sortino Ratio |\n",
            "+---------------+-------------+------------+--------------+--------------+---------------+\n",
            "|   -0.000000%  |   0.000000  |  0.000000  |   0.000000   |   0.000000   |      0nan     |\n",
            "+---------------+-------------+------------+--------------+--------------+---------------+\n",
            "Valid Episode Reward Sum: 0.000000\n",
            "save path /content/TradeMasterReBuild/work_dir/algorithmic_trading_BTC_dqn_dqn_adam_mse/checkpoints/checkpoint-00018.pth\n",
            "Train Episode: [19/20]\n",
            "+---------------+-------------+--------------+--------------+----------------+---------------+\n",
            "| Profit Margin | Sharp Ratio |  Volatility  | Max Drawdown |  Calmar Ratio  | Sortino Ratio |\n",
            "+---------------+-------------+--------------+--------------+----------------+---------------+\n",
            "|  1946.362053% |   0.000269  | 62393.326922 |   0.982325   | 1983259.492032 |    0.659062   |\n",
            "+---------------+-------------+--------------+--------------+----------------+---------------+\n",
            "Valid Episode: [19/20]\n",
            "+---------------+-------------+-------------+--------------+--------------+---------------+\n",
            "| Profit Margin | Sharp Ratio |  Volatility | Max Drawdown | Calmar Ratio | Sortino Ratio |\n",
            "+---------------+-------------+-------------+--------------+--------------+---------------+\n",
            "|  -207.996481% |  -0.001066  | 3339.540488 |   2.300966   | -7603.476723 |   -0.458632   |\n",
            "+---------------+-------------+-------------+--------------+--------------+---------------+\n",
            "Valid Episode Reward Sum: -19890.352502\n",
            "save path /content/TradeMasterReBuild/work_dir/algorithmic_trading_BTC_dqn_dqn_adam_mse/checkpoints/checkpoint-00019.pth\n",
            "Train Episode: [20/20]\n",
            "+---------------+-------------+--------------+--------------+----------------+---------------+\n",
            "| Profit Margin | Sharp Ratio |  Volatility  | Max Drawdown |  Calmar Ratio  | Sortino Ratio |\n",
            "+---------------+-------------+--------------+--------------+----------------+---------------+\n",
            "|  1820.356280% |   0.000307  | 51193.113235 |   0.985824   | 1851319.766475 |    0.778841   |\n",
            "+---------------+-------------+--------------+--------------+----------------+---------------+\n",
            "Valid Episode: [20/20]\n",
            "+---------------+-------------+-------------+--------------+---------------+---------------+\n",
            "| Profit Margin | Sharp Ratio |  Volatility | Max Drawdown |  Calmar Ratio | Sortino Ratio |\n",
            "+---------------+-------------+-------------+--------------+---------------+---------------+\n",
            "|  -228.202936% |  -0.001970  | 3953.705535 |   2.543213   | -15047.811940 |   -0.878491   |\n",
            "+---------------+-------------+-------------+--------------+---------------+---------------+\n",
            "Valid Episode Reward Sum: -60286.070669\n",
            "save path /content/TradeMasterReBuild/work_dir/algorithmic_trading_BTC_dqn_dqn_adam_mse/checkpoints/checkpoint-00020.pth\n",
            "Train Episode: [21/20]\n",
            "save path /content/TradeMasterReBuild/work_dir/algorithmic_trading_BTC_dqn_dqn_adam_mse/checkpoints/best.pth\n",
            "train end\n"
          ]
        }
      ]
    },
    {
      "cell_type": "markdown",
      "source": [
        "Test\n"
      ],
      "metadata": {
        "id": "1w_MyS_nUcO8"
      }
    },
    {
      "cell_type": "code",
      "source": [
        "args = parser.parse_args(args=['--task_name', 'test'])\n",
        "task_name = args.task_name\n",
        "\n",
        "if task_name.startswith(\"train\"):\n",
        "    trainer.train_and_valid()\n",
        "    print(\"train end\")\n",
        "elif task_name.startswith(\"test\"):\n",
        "    trainer.test()\n",
        "    print(\"test end\")\n",
        "elif task_name.startswith(\"style_test\"):\n",
        "    daily_return_list = []\n",
        "    for trainer in trainers:\n",
        "        daily_return_list.extend(trainer.test())\n",
        "    print('win rate is: ', sum(r > 0 for r in daily_return_list) / len(daily_return_list))\n",
        "    print(\"style test end\")"
      ],
      "metadata": {
        "colab": {
          "base_uri": "https://localhost:8080/"
        },
        "id": "1n7vTkv6SAJ8",
        "outputId": "9dbbd64c-7d34-41c0-e290-6b4cfaf79989"
      },
      "execution_count": 24,
      "outputs": [
        {
          "output_type": "stream",
          "name": "stdout",
          "text": [
            "Resume checkpoint /content/TradeMasterReBuild/work_dir/algorithmic_trading_BTC_dqn_dqn_adam_mse/checkpoints/best.pth\n",
            "Test Best Episode\n",
            "+---------------+-------------+--------------+--------------+---------------+---------------+\n",
            "| Profit Margin | Sharp Ratio |  Volatility  | Max Drawdown |  Calmar Ratio | Sortino Ratio |\n",
            "+---------------+-------------+--------------+--------------+---------------+---------------+\n",
            "|  -373.870296% |  -0.002974  | 13694.043365 |   5.949557   | -33632.934851 |   -1.186391   |\n",
            "+---------------+-------------+--------------+--------------+---------------+---------------+\n",
            "Test Best Episode Reward Sum: -402557.887550\n",
            "test end\n"
          ]
        }
      ]
    },
    {
      "cell_type": "markdown",
      "source": [
        "We have trained model on the train environment for 20 epochs, then when each epoch ends, we use the mdoel to do trading on the valid environment. We use Profit Margin as the indicator and choose the best model among 20 models in the valid environment and use the model to do trading in the test environment\n"
      ],
      "metadata": {
        "id": "UHCSX0XWYaod"
      }
    },
    {
      "cell_type": "markdown",
      "source": [
        "Result Visualization"
      ],
      "metadata": {
        "id": "Rr47NaRXXT28"
      }
    },
    {
      "cell_type": "code",
      "source": [
        "import pandas as pd\n",
        "test_result=pd.read_csv(\"work_dir/algorithmic_trading_BTC_dqn_dqn_adam_mse/test_result.csv\",index_col=0)\n",
        "test_result.head(10)"
      ],
      "metadata": {
        "colab": {
          "base_uri": "https://localhost:8080/",
          "height": 394
        },
        "id": "Yd1c7Y8NUgcg",
        "outputId": "79f9e67f-378f-4a7f-b9bb-d2f8fb04ff59"
      },
      "execution_count": 26,
      "outputs": [
        {
          "output_type": "execute_result",
          "data": {
            "text/plain": [
              "               total assets\n",
              "daily_return               \n",
              " 0.000000     100000.000000\n",
              "-116.113553    78511.520052\n",
              "-355.907811    56550.902510\n",
              " 77.744929     34667.851766\n",
              " 17.616443     12776.528428\n",
              "-748.802358    -9872.401080\n",
              " 936.449920   -31135.749164\n",
              " 3332.081696  -49691.159267\n",
              "-609.605622   -71235.756859\n",
              " 2338.190628  -68897.566231"
            ],
            "text/html": [
              "\n",
              "  <div id=\"df-8ebe9f4c-566d-45f1-8272-bbc92da82e84\">\n",
              "    <div class=\"colab-df-container\">\n",
              "      <div>\n",
              "<style scoped>\n",
              "    .dataframe tbody tr th:only-of-type {\n",
              "        vertical-align: middle;\n",
              "    }\n",
              "\n",
              "    .dataframe tbody tr th {\n",
              "        vertical-align: top;\n",
              "    }\n",
              "\n",
              "    .dataframe thead th {\n",
              "        text-align: right;\n",
              "    }\n",
              "</style>\n",
              "<table border=\"1\" class=\"dataframe\">\n",
              "  <thead>\n",
              "    <tr style=\"text-align: right;\">\n",
              "      <th></th>\n",
              "      <th>total assets</th>\n",
              "    </tr>\n",
              "    <tr>\n",
              "      <th>daily_return</th>\n",
              "      <th></th>\n",
              "    </tr>\n",
              "  </thead>\n",
              "  <tbody>\n",
              "    <tr>\n",
              "      <th>0.000000</th>\n",
              "      <td>100000.000000</td>\n",
              "    </tr>\n",
              "    <tr>\n",
              "      <th>-116.113553</th>\n",
              "      <td>78511.520052</td>\n",
              "    </tr>\n",
              "    <tr>\n",
              "      <th>-355.907811</th>\n",
              "      <td>56550.902510</td>\n",
              "    </tr>\n",
              "    <tr>\n",
              "      <th>77.744929</th>\n",
              "      <td>34667.851766</td>\n",
              "    </tr>\n",
              "    <tr>\n",
              "      <th>17.616443</th>\n",
              "      <td>12776.528428</td>\n",
              "    </tr>\n",
              "    <tr>\n",
              "      <th>-748.802358</th>\n",
              "      <td>-9872.401080</td>\n",
              "    </tr>\n",
              "    <tr>\n",
              "      <th>936.449920</th>\n",
              "      <td>-31135.749164</td>\n",
              "    </tr>\n",
              "    <tr>\n",
              "      <th>3332.081696</th>\n",
              "      <td>-49691.159267</td>\n",
              "    </tr>\n",
              "    <tr>\n",
              "      <th>-609.605622</th>\n",
              "      <td>-71235.756859</td>\n",
              "    </tr>\n",
              "    <tr>\n",
              "      <th>2338.190628</th>\n",
              "      <td>-68897.566231</td>\n",
              "    </tr>\n",
              "  </tbody>\n",
              "</table>\n",
              "</div>\n",
              "      <button class=\"colab-df-convert\" onclick=\"convertToInteractive('df-8ebe9f4c-566d-45f1-8272-bbc92da82e84')\"\n",
              "              title=\"Convert this dataframe to an interactive table.\"\n",
              "              style=\"display:none;\">\n",
              "        \n",
              "  <svg xmlns=\"http://www.w3.org/2000/svg\" height=\"24px\"viewBox=\"0 0 24 24\"\n",
              "       width=\"24px\">\n",
              "    <path d=\"M0 0h24v24H0V0z\" fill=\"none\"/>\n",
              "    <path d=\"M18.56 5.44l.94 2.06.94-2.06 2.06-.94-2.06-.94-.94-2.06-.94 2.06-2.06.94zm-11 1L8.5 8.5l.94-2.06 2.06-.94-2.06-.94L8.5 2.5l-.94 2.06-2.06.94zm10 10l.94 2.06.94-2.06 2.06-.94-2.06-.94-.94-2.06-.94 2.06-2.06.94z\"/><path d=\"M17.41 7.96l-1.37-1.37c-.4-.4-.92-.59-1.43-.59-.52 0-1.04.2-1.43.59L10.3 9.45l-7.72 7.72c-.78.78-.78 2.05 0 2.83L4 21.41c.39.39.9.59 1.41.59.51 0 1.02-.2 1.41-.59l7.78-7.78 2.81-2.81c.8-.78.8-2.07 0-2.86zM5.41 20L4 18.59l7.72-7.72 1.47 1.35L5.41 20z\"/>\n",
              "  </svg>\n",
              "      </button>\n",
              "      \n",
              "  <style>\n",
              "    .colab-df-container {\n",
              "      display:flex;\n",
              "      flex-wrap:wrap;\n",
              "      gap: 12px;\n",
              "    }\n",
              "\n",
              "    .colab-df-convert {\n",
              "      background-color: #E8F0FE;\n",
              "      border: none;\n",
              "      border-radius: 50%;\n",
              "      cursor: pointer;\n",
              "      display: none;\n",
              "      fill: #1967D2;\n",
              "      height: 32px;\n",
              "      padding: 0 0 0 0;\n",
              "      width: 32px;\n",
              "    }\n",
              "\n",
              "    .colab-df-convert:hover {\n",
              "      background-color: #E2EBFA;\n",
              "      box-shadow: 0px 1px 2px rgba(60, 64, 67, 0.3), 0px 1px 3px 1px rgba(60, 64, 67, 0.15);\n",
              "      fill: #174EA6;\n",
              "    }\n",
              "\n",
              "    [theme=dark] .colab-df-convert {\n",
              "      background-color: #3B4455;\n",
              "      fill: #D2E3FC;\n",
              "    }\n",
              "\n",
              "    [theme=dark] .colab-df-convert:hover {\n",
              "      background-color: #434B5C;\n",
              "      box-shadow: 0px 1px 3px 1px rgba(0, 0, 0, 0.15);\n",
              "      filter: drop-shadow(0px 1px 2px rgba(0, 0, 0, 0.3));\n",
              "      fill: #FFFFFF;\n",
              "    }\n",
              "  </style>\n",
              "\n",
              "      <script>\n",
              "        const buttonEl =\n",
              "          document.querySelector('#df-8ebe9f4c-566d-45f1-8272-bbc92da82e84 button.colab-df-convert');\n",
              "        buttonEl.style.display =\n",
              "          google.colab.kernel.accessAllowed ? 'block' : 'none';\n",
              "\n",
              "        async function convertToInteractive(key) {\n",
              "          const element = document.querySelector('#df-8ebe9f4c-566d-45f1-8272-bbc92da82e84');\n",
              "          const dataTable =\n",
              "            await google.colab.kernel.invokeFunction('convertToInteractive',\n",
              "                                                     [key], {});\n",
              "          if (!dataTable) return;\n",
              "\n",
              "          const docLinkHtml = 'Like what you see? Visit the ' +\n",
              "            '<a target=\"_blank\" href=https://colab.research.google.com/notebooks/data_table.ipynb>data table notebook</a>'\n",
              "            + ' to learn more about interactive tables.';\n",
              "          element.innerHTML = '';\n",
              "          dataTable['output_type'] = 'display_data';\n",
              "          await google.colab.output.renderOutput(dataTable, element);\n",
              "          const docLink = document.createElement('div');\n",
              "          docLink.innerHTML = docLinkHtml;\n",
              "          element.appendChild(docLink);\n",
              "        }\n",
              "      </script>\n",
              "    </div>\n",
              "  </div>\n",
              "  "
            ]
          },
          "metadata": {},
          "execution_count": 26
        }
      ]
    },
    {
      "cell_type": "code",
      "source": [
        "from matplotlib import pyplot as plt\n",
        "x = range(289)\n",
        "y = test_result[\"total assets\"].tolist()\n",
        "plt.plot(x, y)  \n",
        "plt.show()"
      ],
      "metadata": {
        "colab": {
          "base_uri": "https://localhost:8080/",
          "height": 265
        },
        "id": "SXcYmNcVW5g7",
        "outputId": "42fe29d3-f4eb-4bab-c944-efca0b2aaf60"
      },
      "execution_count": 27,
      "outputs": [
        {
          "output_type": "display_data",
          "data": {
            "text/plain": [
              "<Figure size 432x288 with 1 Axes>"
            ],
            "image/png": "[encoded data removed]"
          },
          "metadata": {
            "needs_background": "light"
          }
        }
      ]
    }
  ],
  "metadata": {
    "colab": {
      "machine_shape": "hm",
      "provenance": []
    },
    "gpuClass": "standard",
    "kernelspec": {
      "display_name": "Python 3",
      "name": "python3"
    },
    "language_info": {
      "name": "python"
    }
  },
  "nbformat": 4,
  "nbformat_minor": 0
}